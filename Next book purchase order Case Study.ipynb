{
 "cells": [
  {
   "cell_type": "markdown",
   "metadata": {},
   "source": [
    "# Importing of Library "
   ]
  },
  {
   "cell_type": "code",
   "execution_count": 1,
   "metadata": {},
   "outputs": [],
   "source": [
    "import numpy as np\n",
    "import pandas as pd\n",
    "import matplotlib.pyplot as plt\n",
    "import seaborn as sns\n",
    "import warnings\n",
    "warnings.filterwarnings('ignore')"
   ]
  },
  {
   "cell_type": "markdown",
   "metadata": {},
   "source": [
    "# Impoting of Datasets"
   ]
  },
  {
   "cell_type": "code",
   "execution_count": 11,
   "metadata": {},
   "outputs": [],
   "source": [
    "customer=pd.read_csv('customer_features.csv')\n",
    "lmonth=pd.read_csv('last_month_assortment.csv')\n",
    "nmonth=pd.read_csv('next_month_assortment.csv')\n",
    "next_month=pd.read_csv('next_purchase_order.csv')\n",
    "orignal=pd.read_csv('original_purchase_order.csv')\n",
    "product=pd.read_csv('product_features.csv')"
   ]
  },
  {
   "cell_type": "code",
   "execution_count": 4,
   "metadata": {},
   "outputs": [],
   "source": [
    "# As for this case study we have a path to proceed but follow your Convenient path:\n",
    "# python are_we_going_to_survive.py original_purchase_order.csv \n",
    "# next_purchase_order.csv \n",
    "# customer_features.csv \n",
    "# product_features.csv \n",
    "# last_month_assortment.csv \n",
    "# next_month_assortment.csv "
   ]
  },
  {
   "cell_type": "code",
   "execution_count": 5,
   "metadata": {},
   "outputs": [
    {
     "data": {
      "text/html": [
       "<div>\n",
       "<style scoped>\n",
       "    .dataframe tbody tr th:only-of-type {\n",
       "        vertical-align: middle;\n",
       "    }\n",
       "\n",
       "    .dataframe tbody tr th {\n",
       "        vertical-align: top;\n",
       "    }\n",
       "\n",
       "    .dataframe thead th {\n",
       "        text-align: right;\n",
       "    }\n",
       "</style>\n",
       "<table border=\"1\" class=\"dataframe\">\n",
       "  <thead>\n",
       "    <tr style=\"text-align: right;\">\n",
       "      <th></th>\n",
       "      <th>product_id</th>\n",
       "      <th>quantity_purchased</th>\n",
       "      <th>cost_to_buy</th>\n",
       "      <th>retail_value</th>\n",
       "    </tr>\n",
       "  </thead>\n",
       "  <tbody>\n",
       "    <tr>\n",
       "      <th>0</th>\n",
       "      <td>1769808</td>\n",
       "      <td>77</td>\n",
       "      <td>2.20</td>\n",
       "      <td>16.67</td>\n",
       "    </tr>\n",
       "    <tr>\n",
       "      <th>1</th>\n",
       "      <td>1896283</td>\n",
       "      <td>67</td>\n",
       "      <td>1.46</td>\n",
       "      <td>9.59</td>\n",
       "    </tr>\n",
       "    <tr>\n",
       "      <th>2</th>\n",
       "      <td>1889979</td>\n",
       "      <td>80</td>\n",
       "      <td>2.06</td>\n",
       "      <td>13.36</td>\n",
       "    </tr>\n",
       "    <tr>\n",
       "      <th>3</th>\n",
       "      <td>1341288</td>\n",
       "      <td>85</td>\n",
       "      <td>1.25</td>\n",
       "      <td>6.57</td>\n",
       "    </tr>\n",
       "    <tr>\n",
       "      <th>4</th>\n",
       "      <td>1666328</td>\n",
       "      <td>60</td>\n",
       "      <td>1.51</td>\n",
       "      <td>10.49</td>\n",
       "    </tr>\n",
       "  </tbody>\n",
       "</table>\n",
       "</div>"
      ],
      "text/plain": [
       "   product_id  quantity_purchased  cost_to_buy  retail_value\n",
       "0     1769808                  77         2.20         16.67\n",
       "1     1896283                  67         1.46          9.59\n",
       "2     1889979                  80         2.06         13.36\n",
       "3     1341288                  85         1.25          6.57\n",
       "4     1666328                  60         1.51         10.49"
      ]
     },
     "execution_count": 5,
     "metadata": {},
     "output_type": "execute_result"
    }
   ],
   "source": [
    "orignal.head()"
   ]
  },
  {
   "cell_type": "code",
   "execution_count": 6,
   "metadata": {},
   "outputs": [],
   "source": [
    "# adding a extra dimension to the dataframe which is \"\"price_for_which_we_bought\"\" which is the product of \"quantity_purchased\"\n",
    "# and cost_to_buy which tell us how much its costs us to buys 'n' quantity of perticulat product."
   ]
  },
  {
   "cell_type": "code",
   "execution_count": 7,
   "metadata": {},
   "outputs": [],
   "source": [
    "orignal['price_for_which_we_bought']=orignal['quantity_purchased']*orignal['cost_to_buy']"
   ]
  },
  {
   "cell_type": "code",
   "execution_count": 8,
   "metadata": {},
   "outputs": [],
   "source": [
    "# It is mentioned in the problem statment that loan amount taken but us as same as the total book bought in the orignal Dataset."
   ]
  },
  {
   "cell_type": "code",
   "execution_count": 10,
   "metadata": {},
   "outputs": [
    {
     "name": "stdout",
     "output_type": "stream",
     "text": [
      "Loan amount:135546.42\n"
     ]
    }
   ],
   "source": [
    "loan_amount=sum(orignal['price_for_which_we_bought'])\n",
    "print('Loan amount:{}'.format(loan_amount))"
   ]
  },
  {
   "cell_type": "code",
   "execution_count": 13,
   "metadata": {},
   "outputs": [
    {
     "data": {
      "text/html": [
       "<div>\n",
       "<style scoped>\n",
       "    .dataframe tbody tr th:only-of-type {\n",
       "        vertical-align: middle;\n",
       "    }\n",
       "\n",
       "    .dataframe tbody tr th {\n",
       "        vertical-align: top;\n",
       "    }\n",
       "\n",
       "    .dataframe thead th {\n",
       "        text-align: right;\n",
       "    }\n",
       "</style>\n",
       "<table border=\"1\" class=\"dataframe\">\n",
       "  <thead>\n",
       "    <tr style=\"text-align: right;\">\n",
       "      <th></th>\n",
       "      <th>product_id</th>\n",
       "      <th>quantity_purchased</th>\n",
       "      <th>cost_to_buy</th>\n",
       "      <th>retail_value</th>\n",
       "    </tr>\n",
       "  </thead>\n",
       "  <tbody>\n",
       "    <tr>\n",
       "      <th>0</th>\n",
       "      <td>1479507</td>\n",
       "      <td>39</td>\n",
       "      <td>1.82</td>\n",
       "      <td>12.68</td>\n",
       "    </tr>\n",
       "    <tr>\n",
       "      <th>1</th>\n",
       "      <td>1681385</td>\n",
       "      <td>55</td>\n",
       "      <td>1.73</td>\n",
       "      <td>12.88</td>\n",
       "    </tr>\n",
       "    <tr>\n",
       "      <th>2</th>\n",
       "      <td>1771749</td>\n",
       "      <td>37</td>\n",
       "      <td>1.26</td>\n",
       "      <td>10.38</td>\n",
       "    </tr>\n",
       "    <tr>\n",
       "      <th>3</th>\n",
       "      <td>1605149</td>\n",
       "      <td>49</td>\n",
       "      <td>1.47</td>\n",
       "      <td>11.27</td>\n",
       "    </tr>\n",
       "    <tr>\n",
       "      <th>4</th>\n",
       "      <td>1861356</td>\n",
       "      <td>34</td>\n",
       "      <td>1.98</td>\n",
       "      <td>10.41</td>\n",
       "    </tr>\n",
       "  </tbody>\n",
       "</table>\n",
       "</div>"
      ],
      "text/plain": [
       "   product_id  quantity_purchased  cost_to_buy  retail_value\n",
       "0     1479507                  39         1.82         12.68\n",
       "1     1681385                  55         1.73         12.88\n",
       "2     1771749                  37         1.26         10.38\n",
       "3     1605149                  49         1.47         11.27\n",
       "4     1861356                  34         1.98         10.41"
      ]
     },
     "execution_count": 13,
     "metadata": {},
     "output_type": "execute_result"
    }
   ],
   "source": [
    "next_month.head()"
   ]
  },
  {
   "cell_type": "code",
   "execution_count": 23,
   "metadata": {},
   "outputs": [],
   "source": [
    "# now we can calculate the amount which will be needed to purchase the next month stock.\n",
    "next_month['price_for_which_we_bought']=next_month['quantity_purchased']*next_month['cost_to_buy']"
   ]
  },
  {
   "cell_type": "code",
   "execution_count": 24,
   "metadata": {},
   "outputs": [
    {
     "name": "stdout",
     "output_type": "stream",
     "text": [
      "next month investment:24155.51\n"
     ]
    }
   ],
   "source": [
    "next_month_investment=sum(next_month['price_for_which_we_bought'])\n",
    "print('next month investment:{}'.format(round(next_month_investment,2)))"
   ]
  },
  {
   "cell_type": "code",
   "execution_count": 27,
   "metadata": {},
   "outputs": [
    {
     "name": "stdout",
     "output_type": "stream",
     "text": [
      "total amount:159701.93\n"
     ]
    }
   ],
   "source": [
    "#Total money we want after sale to recover next month purchase and loan amount is:\n",
    "#so it we get the total sales money more than this then we are in profit.\n",
    "total_amount=loan_amount+next_month_investment\n",
    "print('total amount:{}'.format(total_amount))"
   ]
  },
  {
   "cell_type": "markdown",
   "metadata": {},
   "source": [
    "# Treating Null values in customer data set:"
   ]
  },
  {
   "cell_type": "code",
   "execution_count": 28,
   "metadata": {},
   "outputs": [
    {
     "data": {
      "text/html": [
       "<div>\n",
       "<style scoped>\n",
       "    .dataframe tbody tr th:only-of-type {\n",
       "        vertical-align: middle;\n",
       "    }\n",
       "\n",
       "    .dataframe tbody tr th {\n",
       "        vertical-align: top;\n",
       "    }\n",
       "\n",
       "    .dataframe thead th {\n",
       "        text-align: right;\n",
       "    }\n",
       "</style>\n",
       "<table border=\"1\" class=\"dataframe\">\n",
       "  <thead>\n",
       "    <tr style=\"text-align: right;\">\n",
       "      <th></th>\n",
       "      <th>customer_id</th>\n",
       "      <th>age_bucket</th>\n",
       "      <th>is_returning_customer</th>\n",
       "      <th>favorite_genres</th>\n",
       "    </tr>\n",
       "  </thead>\n",
       "  <tbody>\n",
       "    <tr>\n",
       "      <th>0</th>\n",
       "      <td>1000078</td>\n",
       "      <td>46-55</td>\n",
       "      <td>True</td>\n",
       "      <td>['Classic', 'History', 'Self-Help', 'Romance',...</td>\n",
       "    </tr>\n",
       "    <tr>\n",
       "      <th>1</th>\n",
       "      <td>1000102</td>\n",
       "      <td>46-55</td>\n",
       "      <td>True</td>\n",
       "      <td>['Beach-Read', 'Pop-Sci', 'Pop-Psychology', 'B...</td>\n",
       "    </tr>\n",
       "    <tr>\n",
       "      <th>2</th>\n",
       "      <td>1000185</td>\n",
       "      <td>46-55</td>\n",
       "      <td>True</td>\n",
       "      <td>['Romance', 'Self-Help', 'Beach-Read', 'Pop-Ps...</td>\n",
       "    </tr>\n",
       "    <tr>\n",
       "      <th>3</th>\n",
       "      <td>1000423</td>\n",
       "      <td>26-35</td>\n",
       "      <td>True</td>\n",
       "      <td>['Classic', 'Drama']</td>\n",
       "    </tr>\n",
       "    <tr>\n",
       "      <th>4</th>\n",
       "      <td>1000696</td>\n",
       "      <td>66+</td>\n",
       "      <td>True</td>\n",
       "      <td>['Drama', 'Thriller', 'Sci-Fi', 'Romance', 'Hi...</td>\n",
       "    </tr>\n",
       "  </tbody>\n",
       "</table>\n",
       "</div>"
      ],
      "text/plain": [
       "   customer_id age_bucket  is_returning_customer  \\\n",
       "0      1000078      46-55                   True   \n",
       "1      1000102      46-55                   True   \n",
       "2      1000185      46-55                   True   \n",
       "3      1000423      26-35                   True   \n",
       "4      1000696        66+                   True   \n",
       "\n",
       "                                     favorite_genres  \n",
       "0  ['Classic', 'History', 'Self-Help', 'Romance',...  \n",
       "1  ['Beach-Read', 'Pop-Sci', 'Pop-Psychology', 'B...  \n",
       "2  ['Romance', 'Self-Help', 'Beach-Read', 'Pop-Ps...  \n",
       "3                               ['Classic', 'Drama']  \n",
       "4  ['Drama', 'Thriller', 'Sci-Fi', 'Romance', 'Hi...  "
      ]
     },
     "execution_count": 28,
     "metadata": {},
     "output_type": "execute_result"
    }
   ],
   "source": [
    "customer.head()"
   ]
  },
  {
   "cell_type": "code",
   "execution_count": 30,
   "metadata": {},
   "outputs": [],
   "source": [
    "g=customer.groupby('favorite_genres')\n",
    "a=customer['favorite_genres'].unique()\n",
    "df=pd.DataFrame([np.arange(len(customer.columns))],columns=customer.columns,index=['a'])\n",
    "for i in a:\n",
    "    f1=g.get_group(i)\n",
    "    df=pd.concat([df,f1])#It will concat all grouped data frame with df which is a dummy dataframe made for just concating."
   ]
  },
  {
   "cell_type": "code",
   "execution_count": 31,
   "metadata": {},
   "outputs": [],
   "source": [
    "customer=df[df.index!='a'] #This data frame consists all the rows sorted according to the grouped favorite_genres."
   ]
  },
  {
   "cell_type": "code",
   "execution_count": 34,
   "metadata": {},
   "outputs": [],
   "source": [
    "customer=customer.fillna(method='ffill')# As the dataframe is sorted by groups we can forward fill the values to impute null.\n",
    "customer.reset_index(inplace=True)\n",
    "customer.drop(columns='index',inplace=True)"
   ]
  },
  {
   "cell_type": "code",
   "execution_count": 35,
   "metadata": {},
   "outputs": [
    {
     "data": {
      "text/html": [
       "<div>\n",
       "<style scoped>\n",
       "    .dataframe tbody tr th:only-of-type {\n",
       "        vertical-align: middle;\n",
       "    }\n",
       "\n",
       "    .dataframe tbody tr th {\n",
       "        vertical-align: top;\n",
       "    }\n",
       "\n",
       "    .dataframe thead th {\n",
       "        text-align: right;\n",
       "    }\n",
       "</style>\n",
       "<table border=\"1\" class=\"dataframe\">\n",
       "  <thead>\n",
       "    <tr style=\"text-align: right;\">\n",
       "      <th></th>\n",
       "      <th>product_id</th>\n",
       "      <th>length</th>\n",
       "      <th>difficulty</th>\n",
       "      <th>fiction</th>\n",
       "      <th>genre</th>\n",
       "    </tr>\n",
       "  </thead>\n",
       "  <tbody>\n",
       "    <tr>\n",
       "      <th>0</th>\n",
       "      <td>1769808</td>\n",
       "      <td>148</td>\n",
       "      <td>3</td>\n",
       "      <td>False</td>\n",
       "      <td>Self-Help</td>\n",
       "    </tr>\n",
       "    <tr>\n",
       "      <th>1</th>\n",
       "      <td>1896283</td>\n",
       "      <td>161</td>\n",
       "      <td>5</td>\n",
       "      <td>False</td>\n",
       "      <td>Biography</td>\n",
       "    </tr>\n",
       "    <tr>\n",
       "      <th>2</th>\n",
       "      <td>1889979</td>\n",
       "      <td>296</td>\n",
       "      <td>4</td>\n",
       "      <td>False</td>\n",
       "      <td>History</td>\n",
       "    </tr>\n",
       "    <tr>\n",
       "      <th>3</th>\n",
       "      <td>1341288</td>\n",
       "      <td>551</td>\n",
       "      <td>4</td>\n",
       "      <td>True</td>\n",
       "      <td>Thriller</td>\n",
       "    </tr>\n",
       "    <tr>\n",
       "      <th>4</th>\n",
       "      <td>1666328</td>\n",
       "      <td>623</td>\n",
       "      <td>-1</td>\n",
       "      <td>True</td>\n",
       "      <td>Sci-Fi</td>\n",
       "    </tr>\n",
       "  </tbody>\n",
       "</table>\n",
       "</div>"
      ],
      "text/plain": [
       "   product_id  length  difficulty  fiction      genre\n",
       "0     1769808     148           3    False  Self-Help\n",
       "1     1896283     161           5    False  Biography\n",
       "2     1889979     296           4    False    History\n",
       "3     1341288     551           4     True   Thriller\n",
       "4     1666328     623          -1     True     Sci-Fi"
      ]
     },
     "execution_count": 35,
     "metadata": {},
     "output_type": "execute_result"
    }
   ],
   "source": [
    "product.head()"
   ]
  },
  {
   "cell_type": "markdown",
   "metadata": {},
   "source": [
    "# Concat test train:"
   ]
  },
  {
   "cell_type": "code",
   "execution_count": 37,
   "metadata": {},
   "outputs": [],
   "source": [
    "# Here next_month_assortment is Test as we dont have \"purchased\" column in it and last_month_assortment is Train\n",
    "full_data=pd.concat([lmonth,nmonth])"
   ]
  },
  {
   "cell_type": "markdown",
   "metadata": {},
   "source": [
    "# Merging of datasets:"
   ]
  },
  {
   "cell_type": "code",
   "execution_count": 38,
   "metadata": {},
   "outputs": [],
   "source": [
    "required=orignal[['product_id','retail_value']]"
   ]
  },
  {
   "cell_type": "code",
   "execution_count": 40,
   "metadata": {},
   "outputs": [],
   "source": [
    "first=pd.merge(full_data,product,how='left',on='product_id')\n",
    "final=pd.merge(first,customer,how='left',on='customer_id')\n",
    "final=pd.merge(final,required,how='left',on='product_id')"
   ]
  },
  {
   "cell_type": "code",
   "execution_count": 41,
   "metadata": {},
   "outputs": [],
   "source": [
    "final.drop(columns='favorite_genres',inplace=True)\n",
    "final['difficulty']=final['difficulty'].astype('object') # For Lable encoding"
   ]
  },
  {
   "cell_type": "code",
   "execution_count": 44,
   "metadata": {},
   "outputs": [],
   "source": [
    "train=final[final['purchased'].notnull()]\n",
    "test=final[final['purchased'].isnull()]\n",
    "test.drop(columns='purchased',inplace=True)"
   ]
  },
  {
   "cell_type": "code",
   "execution_count": 46,
   "metadata": {},
   "outputs": [],
   "source": [
    "from sklearn.preprocessing import LabelEncoder # Lable encoding the features with are in the object form.\n",
    "le=LabelEncoder()"
   ]
  },
  {
   "cell_type": "code",
   "execution_count": 47,
   "metadata": {},
   "outputs": [],
   "source": [
    "train['difficulty']=le.fit_transform(train['difficulty'])\n",
    "test['difficulty']=le.transform(test['difficulty'])\n",
    "train['fiction']=le.fit_transform(train['fiction'])\n",
    "test['fiction']=le.transform(test['fiction'])\n",
    "train['genre']=le.fit_transform(train['genre'])\n",
    "test['genre']=le.transform(test['genre'])\n",
    "train['age_bucket']=le.fit_transform(train['age_bucket'])\n",
    "test['age_bucket']=le.transform(test['age_bucket'])\n",
    "train['age_bucket']=le.fit_transform(train['age_bucket'])\n",
    "test['age_bucket']=le.transform(test['age_bucket'])\n",
    "train['purchased']=le.fit_transform(train['purchased'])"
   ]
  },
  {
   "cell_type": "code",
   "execution_count": 50,
   "metadata": {},
   "outputs": [
    {
     "data": {
      "text/plain": [
       "<matplotlib.axes._subplots.AxesSubplot at 0x19324830630>"
      ]
     },
     "execution_count": 50,
     "metadata": {},
     "output_type": "execute_result"
    },
    {
     "data": {
      "image/png": "[encoded data removed]",
      "text/plain": [
       "<Figure size 720x720 with 2 Axes>"
      ]
     },
     "metadata": {
      "needs_background": "light"
     },
     "output_type": "display_data"
    }
   ],
   "source": [
    "plt.figure(figsize=(10,10))\n",
    "sns.heatmap(train.corr(),annot=True)"
   ]
  },
  {
   "cell_type": "code",
   "execution_count": 51,
   "metadata": {},
   "outputs": [],
   "source": [
    "#Final Data sets is ready for modeling first build the model with all the features and then perform feature engneering.\n",
    "# To validate the score we diving the dataset into train and valadation data set."
   ]
  },
  {
   "cell_type": "code",
   "execution_count": 53,
   "metadata": {},
   "outputs": [],
   "source": [
    "from sklearn.model_selection import train_test_split\n",
    "from sklearn.metrics import accuracy_score"
   ]
  },
  {
   "cell_type": "code",
   "execution_count": 56,
   "metadata": {},
   "outputs": [],
   "source": [
    "xtrain,xtest,ytrain,ytest=train_test_split(X,y,random_state=0,test_size=0.3)"
   ]
  },
  {
   "cell_type": "markdown",
   "metadata": {},
   "source": [
    "# Used xgboost for model building: "
   ]
  },
  {
   "cell_type": "code",
   "execution_count": 54,
   "metadata": {},
   "outputs": [],
   "source": [
    "from xgboost import XGBClassifier\n",
    "xg=XGBClassifier()"
   ]
  },
  {
   "cell_type": "code",
   "execution_count": 57,
   "metadata": {},
   "outputs": [],
   "source": [
    "model=xg.fit(xtrain,ytrain)\n",
    "predicter=model.predict(xtest)"
   ]
  },
  {
   "cell_type": "code",
   "execution_count": 60,
   "metadata": {},
   "outputs": [
    {
     "name": "stdout",
     "output_type": "stream",
     "text": [
      "accuracy_score:0.7576851851851852\n"
     ]
    }
   ],
   "source": [
    "print('accuracy_score:{}'.format(accuracy_score(ytest,predicter)))"
   ]
  },
  {
   "cell_type": "code",
   "execution_count": 61,
   "metadata": {},
   "outputs": [],
   "source": [
    "#seems that without Feature engneering(with all features) we are getting accuracy_score of 0.7576851851851852."
   ]
  },
  {
   "cell_type": "code",
   "execution_count": 62,
   "metadata": {},
   "outputs": [],
   "source": [
    "from sklearn.metrics import confusion_matrix "
   ]
  },
  {
   "cell_type": "code",
   "execution_count": 64,
   "metadata": {},
   "outputs": [
    {
     "data": {
      "text/plain": [
       "array([[5877, 1042],\n",
       "       [1575, 2306]], dtype=int64)"
      ]
     },
     "execution_count": 64,
     "metadata": {},
     "output_type": "execute_result"
    }
   ],
   "source": [
    "confusion_matrix(ytest,predicter)"
   ]
  },
  {
   "cell_type": "code",
   "execution_count": 65,
   "metadata": {},
   "outputs": [
    {
     "data": {
      "text/plain": [
       "<matplotlib.axes._subplots.AxesSubplot at 0x19327101240>"
      ]
     },
     "execution_count": 65,
     "metadata": {},
     "output_type": "execute_result"
    },
    {
     "data": {
      "image/png": "[encoded data removed]",
      "text/plain": [
       "<Figure size 432x288 with 2 Axes>"
      ]
     },
     "metadata": {
      "needs_background": "light"
     },
     "output_type": "display_data"
    }
   ],
   "source": [
    "sns.heatmap(confusion_matrix(ytest,predicter),annot=True)"
   ]
  },
  {
   "cell_type": "code",
   "execution_count": 68,
   "metadata": {},
   "outputs": [],
   "source": [
    "# So we have True positive=5877,False positive=1042,True Negetive=2306,False Negetive=1575.\n",
    "# Hear the main callange for us to reduce the false negative because it we predict that the customer is buying the product but\n",
    "# he is not the we will set wrong target and end up wrongly predicting hight sales which is not the case."
   ]
  },
  {
   "cell_type": "markdown",
   "metadata": {},
   "source": [
    "# Feature engnerring:"
   ]
  },
  {
   "cell_type": "code",
   "execution_count": 71,
   "metadata": {},
   "outputs": [],
   "source": [
    "X=train.drop(columns='purchased')\n",
    "y=train['purchased']"
   ]
  },
  {
   "cell_type": "code",
   "execution_count": 73,
   "metadata": {},
   "outputs": [
    {
     "data": {
      "image/png": "[encoded data removed]",
      "text/plain": [
       "<Figure size 432x288 with 1 Axes>"
      ]
     },
     "metadata": {
      "needs_background": "light"
     },
     "output_type": "display_data"
    }
   ],
   "source": [
    "from sklearn.ensemble import ExtraTreesClassifier\n",
    "model = ExtraTreesClassifier()\n",
    "model.fit(X,y)\n",
    "feat_importances = pd.Series(model.feature_importances_, index=X.columns)\n",
    "feat_importances.nlargest(10).plot(kind='bar')\n",
    "plt.show()"
   ]
  },
  {
   "cell_type": "code",
   "execution_count": 74,
   "metadata": {},
   "outputs": [],
   "source": [
    "# Building Model by using top(5) features:"
   ]
  },
  {
   "cell_type": "code",
   "execution_count": 76,
   "metadata": {},
   "outputs": [],
   "source": [
    "xtrain.drop(columns=['genre','is_returning_customer','fiction'],inplace=True)\n",
    "xtest.drop(columns=['genre','is_returning_customer','fiction'],inplace=True)"
   ]
  },
  {
   "cell_type": "code",
   "execution_count": 77,
   "metadata": {},
   "outputs": [
    {
     "name": "stdout",
     "output_type": "stream",
     "text": [
      "accuracy score:0.7527777777777778\n"
     ]
    }
   ],
   "source": [
    "model=xg.fit(xtrain,ytrain)\n",
    "predicters=model.predict(xtest)\n",
    "print('accuracy score:{}'.format(accuracy_score(ytest,predicters)))"
   ]
  },
  {
   "cell_type": "code",
   "execution_count": 78,
   "metadata": {},
   "outputs": [
    {
     "data": {
      "text/plain": [
       "array([[5827, 1092],\n",
       "       [1578, 2303]], dtype=int64)"
      ]
     },
     "execution_count": 78,
     "metadata": {},
     "output_type": "execute_result"
    }
   ],
   "source": [
    "confusion_matrix(ytest,predicters) # seems that the False negative is increased and accuracy is decreased."
   ]
  },
  {
   "cell_type": "code",
   "execution_count": 79,
   "metadata": {},
   "outputs": [
    {
     "data": {
      "text/plain": [
       "<matplotlib.axes._subplots.AxesSubplot at 0x19327923358>"
      ]
     },
     "execution_count": 79,
     "metadata": {},
     "output_type": "execute_result"
    },
    {
     "data": {
      "image/png": "[encoded data removed]",
      "text/plain": [
       "<Figure size 432x288 with 2 Axes>"
      ]
     },
     "metadata": {
      "needs_background": "light"
     },
     "output_type": "display_data"
    }
   ],
   "source": [
    "sns.heatmap(confusion_matrix(ytest,predicter),annot=True)"
   ]
  },
  {
   "cell_type": "code",
   "execution_count": 80,
   "metadata": {},
   "outputs": [],
   "source": [
    "# seems that the False negative is increased and accuracy is decreased so using all the features."
   ]
  },
  {
   "cell_type": "markdown",
   "metadata": {},
   "source": [
    "# Splliting the data set:"
   ]
  },
  {
   "cell_type": "code",
   "execution_count": 84,
   "metadata": {},
   "outputs": [],
   "source": [
    "# Modeling by using all features and now using full data for model building\n",
    "X=train.drop(columns='purchased')\n",
    "y=train['purchased']\n",
    "model=xg.fit(X,y)\n",
    "predicters=model.predict(test)"
   ]
  },
  {
   "cell_type": "code",
   "execution_count": 85,
   "metadata": {},
   "outputs": [],
   "source": [
    "test['purchased']=predicters"
   ]
  },
  {
   "cell_type": "code",
   "execution_count": 89,
   "metadata": {},
   "outputs": [
    {
     "name": "stdout",
     "output_type": "stream",
     "text": [
      "Total sales happaned last month:116024.76\n"
     ]
    }
   ],
   "source": [
    "# Previous month sales calculations:\n",
    "last_month_sales_h=sum(train[train['purchased']==True]['retail_value'])\n",
    "Total_books_bought_lastmonth=len(train[train['purchased']==True]['retail_value'])\n",
    "Total_books_NOTbought_lastmonth=len(train[train['purchased']==False]['retail_value'])\n",
    "totalsale1_lastmonth=(last_month_sales_h-(Total_books_bought_lastmonth*0.6)) #EXCLUDING Notbought products shipping charges\n",
    "totalsale_lastmonth=(totalsale1_lastmonth-(Total_books_NOTbought_lastmonth*1.2)) #sum total\n",
    "print('Total sales happaned last month:{}'.format(round(totalsale_lastmonth,2)))"
   ]
  },
  {
   "cell_type": "code",
   "execution_count": 90,
   "metadata": {},
   "outputs": [
    {
     "name": "stdout",
     "output_type": "stream",
     "text": [
      "Total sales happaned last month:123767.29\n"
     ]
    }
   ],
   "source": [
    "# Next month sales calculations:\n",
    "next_month_sales_p=sum(test[test['purchased']==True]['retail_value'])\n",
    "Total_books_willbuy_nextmonth=len(test[test['purchased']==True]['retail_value'])\n",
    "Total_books_willNOTbuy_nextmonth=len(test[test['purchased']==False]['retail_value'])\n",
    "totalsale1_nextmonth=(next_month_sales_p-(Total_books_willbuy_nextmonth*0.6))\n",
    "totalsale_nextmonth=(totalsale1_nextmonth-(Total_books_willNOTbuy_nextmonth*1.2))\n",
    "print('Total sales happaned last month:{}'.format(round(totalsale_nextmonth,2)))"
   ]
  },
  {
   "cell_type": "code",
   "execution_count": 99,
   "metadata": {
    "scrolled": true
   },
   "outputs": [
    {
     "name": "stdout",
     "output_type": "stream",
     "text": [
      "Total_sales_bothmonths:239792.05\n",
      "Proit:80090.12\n"
     ]
    }
   ],
   "source": [
    "# Will we be able to both pay back our loan and afford our next book purchase order?  (case study question)\n",
    "Total_sales_bothmonths=totalsale_lastmonth+totalsale_nextmonth\n",
    "profit=(totalsale_lastmonth+totalsale_nextmonth)-total_amount\n",
    "print('Total_sales_bothmonths:{}'.format(round(total_sales_bothmonths,2)))\n",
    "print('Proit:{}'.format(round(profit,2)))"
   ]
  },
  {
   "cell_type": "code",
   "execution_count": 96,
   "metadata": {},
   "outputs": [
    {
     "name": "stdout",
     "output_type": "stream",
     "text": [
      "Yes\n"
     ]
    }
   ],
   "source": [
    "if Total_sales_bothmonths > total_amount:\n",
    "    print('Yes')\n",
    "else:\n",
    "    print('No')"
   ]
  },
  {
   "cell_type": "code",
   "execution_count": null,
   "metadata": {},
   "outputs": [],
   "source": [
    "# So we can see that we are able to pay back the loan amount of previous month and can also order new stock and save some money\n",
    "#for party.\n",
    "# we are able to make profits of 80090.12.\n",
    "# Thank you"
   ]
  }
 ],
 "metadata": {
  "kernelspec": {
   "display_name": "Python 3",
   "language": "python",
   "name": "python3"
  },
  "language_info": {
   "codemirror_mode": {
    "name": "ipython",
    "version": 3
   },
   "file_extension": ".py",
   "mimetype": "text/x-python",
   "name": "python",
   "nbconvert_exporter": "python",
   "pygments_lexer": "ipython3",
   "version": "3.7.3"
  }
 },
 "nbformat": 4,
 "nbformat_minor": 2
}
